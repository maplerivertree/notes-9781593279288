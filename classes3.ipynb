{
 "cells": [
  {
   "cell_type": "code",
   "execution_count": 24,
   "metadata": {},
   "outputs": [],
   "source": [
    "#use __init__ as constructor, to define the attributes\n",
    "\n",
    "class Robot():\n",
    "    def __init__(self, name, color, weight):\n",
    "        self.name = name\n",
    "        self.color = color\n",
    "        self.weight = weight\n",
    "    def describe_robot(self):\n",
    "        print(\"This is a \" + self.name + self.color + str(self.weight))"
   ]
  },
  {
   "cell_type": "code",
   "execution_count": 25,
   "metadata": {},
   "outputs": [],
   "source": [
    "r1 = Robot(\"Tom\", \"Green\", 30)\n",
    "#r1.name = \"Tom\"\n",
    "#r1.color= \"Green\"\n",
    "#r1.weight=30"
   ]
  },
  {
   "cell_type": "code",
   "execution_count": 26,
   "metadata": {},
   "outputs": [
    {
     "name": "stdout",
     "output_type": "stream",
     "text": [
      "This is a TomGreen30\n"
     ]
    }
   ],
   "source": [
    "r1.describe_robot()"
   ]
  },
  {
   "cell_type": "code",
   "execution_count": 29,
   "metadata": {},
   "outputs": [],
   "source": [
    "#free form, creating objects/class\n",
    "\n",
    "class robotta():\n",
    "    def describe_robot(self):\n",
    "        print(self.name + self.color + str(self.weight))"
   ]
  },
  {
   "cell_type": "code",
   "execution_count": 32,
   "metadata": {},
   "outputs": [],
   "source": [
    "r2 = robotta()\n",
    "r2.color = \"black\"\n",
    "r2.name = \"emma\"\n",
    "r2.weight = 33"
   ]
  },
  {
   "cell_type": "code",
   "execution_count": 33,
   "metadata": {},
   "outputs": [
    {
     "name": "stdout",
     "output_type": "stream",
     "text": [
      "emmablack33\n"
     ]
    }
   ],
   "source": [
    "r2.describe_robot()"
   ]
  },
  {
   "cell_type": "code",
   "execution_count": null,
   "metadata": {},
   "outputs": [],
   "source": []
  }
 ],
 "metadata": {
  "kernelspec": {
   "display_name": "Python 3",
   "language": "python",
   "name": "python3"
  },
  "language_info": {
   "codemirror_mode": {
    "name": "ipython",
    "version": 3
   },
   "file_extension": ".py",
   "mimetype": "text/x-python",
   "name": "python",
   "nbconvert_exporter": "python",
   "pygments_lexer": "ipython3",
   "version": "3.6.7"
  }
 },
 "nbformat": 4,
 "nbformat_minor": 2
}
